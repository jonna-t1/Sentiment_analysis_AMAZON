{
 "cells": [
  {
   "cell_type": "markdown",
   "id": "b6031546-7088-4139-b483-ca32f7003bf8",
   "metadata": {},
   "source": [
    "# Sentiment analysis"
   ]
  },
  {
   "cell_type": "markdown",
   "id": "c9c38430-4c10-4a27-b2c7-c917dfb00d83",
   "metadata": {},
   "source": [
    "## Data collection"
   ]
  },
  {
   "cell_type": "code",
   "execution_count": 19,
   "id": "da6079d9-4359-4baa-9c68-d8fd714be40b",
   "metadata": {},
   "outputs": [],
   "source": [
    "%reset -f\n",
    "import time\n",
    "import DataExtraction as extract\n",
    "import pandas as pd\n",
    "import numpy as np\n",
    "import utils\n",
    "# import machinealgs as algs\n",
    "import os\n",
    "import sys\n",
    "from sklearn.model_selection import train_test_split, KFold"
   ]
  },
  {
   "cell_type": "code",
   "execution_count": null,
   "id": "d551966a-ba23-46ca-9b2e-190b3696fb7e",
   "metadata": {},
   "outputs": [],
   "source": []
  },
  {
   "cell_type": "code",
   "execution_count": 20,
   "id": "901fca07-f817-462c-a104-ccfa3ceab4cb",
   "metadata": {},
   "outputs": [
    {
     "name": "stdout",
     "output_type": "stream",
     "text": [
      "C:\\Users\\jturn\\PycharmProjects\\Sentiment_analysis_AMAZON_reviews\\DATA\\reduced.json.gz\n"
     ]
    },
    {
     "data": {
      "text/html": [
       "<div>\n",
       "<style scoped>\n",
       "    .dataframe tbody tr th:only-of-type {\n",
       "        vertical-align: middle;\n",
       "    }\n",
       "\n",
       "    .dataframe tbody tr th {\n",
       "        vertical-align: top;\n",
       "    }\n",
       "\n",
       "    .dataframe thead th {\n",
       "        text-align: right;\n",
       "    }\n",
       "</style>\n",
       "<table border=\"1\" class=\"dataframe\">\n",
       "  <thead>\n",
       "    <tr style=\"text-align: right;\">\n",
       "      <th></th>\n",
       "      <th>overall</th>\n",
       "      <th>vote</th>\n",
       "      <th>verified</th>\n",
       "      <th>reviewTime</th>\n",
       "      <th>reviewerID</th>\n",
       "      <th>asin</th>\n",
       "      <th>style</th>\n",
       "      <th>reviewerName</th>\n",
       "      <th>reviewText</th>\n",
       "      <th>summary</th>\n",
       "      <th>unixReviewTime</th>\n",
       "      <th>image</th>\n",
       "    </tr>\n",
       "  </thead>\n",
       "  <tbody>\n",
       "    <tr>\n",
       "      <th>0</th>\n",
       "      <td>5.0</td>\n",
       "      <td>67</td>\n",
       "      <td>True</td>\n",
       "      <td>09 18, 1999</td>\n",
       "      <td>AAP7PPBU72QFM</td>\n",
       "      <td>0151004714</td>\n",
       "      <td>{'Format:': ' Hardcover'}</td>\n",
       "      <td>D. C. Carrad</td>\n",
       "      <td>This is the best novel I have read in 2 or 3 y...</td>\n",
       "      <td>A star is born</td>\n",
       "      <td>937612800</td>\n",
       "      <td>NaN</td>\n",
       "    </tr>\n",
       "    <tr>\n",
       "      <th>1</th>\n",
       "      <td>3.0</td>\n",
       "      <td>5</td>\n",
       "      <td>True</td>\n",
       "      <td>10 23, 2013</td>\n",
       "      <td>A2E168DTVGE6SV</td>\n",
       "      <td>0151004714</td>\n",
       "      <td>{'Format:': ' Kindle Edition'}</td>\n",
       "      <td>Evy</td>\n",
       "      <td>Pages and pages of introspection, in the style...</td>\n",
       "      <td>A stream of consciousness novel</td>\n",
       "      <td>1382486400</td>\n",
       "      <td>NaN</td>\n",
       "    </tr>\n",
       "    <tr>\n",
       "      <th>2</th>\n",
       "      <td>5.0</td>\n",
       "      <td>4</td>\n",
       "      <td>False</td>\n",
       "      <td>09 2, 2008</td>\n",
       "      <td>A1ER5AYS3FQ9O3</td>\n",
       "      <td>0151004714</td>\n",
       "      <td>{'Format:': ' Paperback'}</td>\n",
       "      <td>Kcorn</td>\n",
       "      <td>This is the kind of novel to read when you hav...</td>\n",
       "      <td>I'm a huge fan of the author and this one did ...</td>\n",
       "      <td>1220313600</td>\n",
       "      <td>NaN</td>\n",
       "    </tr>\n",
       "    <tr>\n",
       "      <th>3</th>\n",
       "      <td>5.0</td>\n",
       "      <td>13</td>\n",
       "      <td>False</td>\n",
       "      <td>09 4, 2000</td>\n",
       "      <td>A1T17LMQABMBN5</td>\n",
       "      <td>0151004714</td>\n",
       "      <td>{'Format:': ' Hardcover'}</td>\n",
       "      <td>Caf Girl Writes</td>\n",
       "      <td>What gorgeous language! What an incredible wri...</td>\n",
       "      <td>The most beautiful book I have ever read!</td>\n",
       "      <td>968025600</td>\n",
       "      <td>NaN</td>\n",
       "    </tr>\n",
       "    <tr>\n",
       "      <th>4</th>\n",
       "      <td>3.0</td>\n",
       "      <td>8</td>\n",
       "      <td>True</td>\n",
       "      <td>02 4, 2000</td>\n",
       "      <td>A3QHJ0FXK33OBE</td>\n",
       "      <td>0151004714</td>\n",
       "      <td>{'Format:': ' Hardcover'}</td>\n",
       "      <td>W. Shane Schmidt</td>\n",
       "      <td>I was taken in by reviews that compared this b...</td>\n",
       "      <td>A dissenting view--In part.</td>\n",
       "      <td>949622400</td>\n",
       "      <td>NaN</td>\n",
       "    </tr>\n",
       "  </tbody>\n",
       "</table>\n",
       "</div>"
      ],
      "text/plain": [
       "   overall vote  verified   reviewTime      reviewerID        asin  \\\n",
       "0      5.0   67      True  09 18, 1999   AAP7PPBU72QFM  0151004714   \n",
       "1      3.0    5      True  10 23, 2013  A2E168DTVGE6SV  0151004714   \n",
       "2      5.0    4     False   09 2, 2008  A1ER5AYS3FQ9O3  0151004714   \n",
       "3      5.0   13     False   09 4, 2000  A1T17LMQABMBN5  0151004714   \n",
       "4      3.0    8      True   02 4, 2000  A3QHJ0FXK33OBE  0151004714   \n",
       "\n",
       "                            style      reviewerName  \\\n",
       "0       {'Format:': ' Hardcover'}      D. C. Carrad   \n",
       "1  {'Format:': ' Kindle Edition'}               Evy   \n",
       "2       {'Format:': ' Paperback'}             Kcorn   \n",
       "3       {'Format:': ' Hardcover'}   Caf Girl Writes   \n",
       "4       {'Format:': ' Hardcover'}  W. Shane Schmidt   \n",
       "\n",
       "                                          reviewText  \\\n",
       "0  This is the best novel I have read in 2 or 3 y...   \n",
       "1  Pages and pages of introspection, in the style...   \n",
       "2  This is the kind of novel to read when you hav...   \n",
       "3  What gorgeous language! What an incredible wri...   \n",
       "4  I was taken in by reviews that compared this b...   \n",
       "\n",
       "                                             summary  unixReviewTime image  \n",
       "0                                     A star is born       937612800   NaN  \n",
       "1                    A stream of consciousness novel      1382486400   NaN  \n",
       "2  I'm a huge fan of the author and this one did ...      1220313600   NaN  \n",
       "3          The most beautiful book I have ever read!       968025600   NaN  \n",
       "4                        A dissenting view--In part.       949622400   NaN  "
      ]
     },
     "execution_count": 20,
     "metadata": {},
     "output_type": "execute_result"
    }
   ],
   "source": [
    "path = os.getcwd()\n",
    "directory = path + '\\\\DATA\\\\'\n",
    "## Enter path to data\n",
    "# path = directory+'AMAZON_FASHION_5.json.gz'\n",
    "path = directory+'reduced.json.gz'\n",
    "# path = directory+'Electronics_5.json.gz'\n",
    "## loading datasets to pandas dataframe\n",
    "print(path)\n",
    "df = extract.getDF(path)\n",
    "df.head()\n",
    "## For multiple datasets within a directory\n",
    "# multiDF = extract.process_directory_to_dataframe(directory+'\\\\split_files\\\\')\n",
    "# multiDF"
   ]
  },
  {
   "cell_type": "code",
   "execution_count": 21,
   "id": "5f607600-e3c1-496a-a27b-6b8528600a02",
   "metadata": {},
   "outputs": [
    {
     "name": "stdout",
     "output_type": "stream",
     "text": [
      "    overall  count\n",
      "0  negative   1140\n",
      "1  positive   8860\n"
     ]
    },
    {
     "data": {
      "text/html": [
       "<div>\n",
       "<style scoped>\n",
       "    .dataframe tbody tr th:only-of-type {\n",
       "        vertical-align: middle;\n",
       "    }\n",
       "\n",
       "    .dataframe tbody tr th {\n",
       "        vertical-align: top;\n",
       "    }\n",
       "\n",
       "    .dataframe thead th {\n",
       "        text-align: right;\n",
       "    }\n",
       "</style>\n",
       "<table border=\"1\" class=\"dataframe\">\n",
       "  <thead>\n",
       "    <tr style=\"text-align: right;\">\n",
       "      <th></th>\n",
       "      <th>overall</th>\n",
       "      <th>count</th>\n",
       "    </tr>\n",
       "  </thead>\n",
       "  <tbody>\n",
       "    <tr>\n",
       "      <th>0</th>\n",
       "      <td>1</td>\n",
       "      <td>719</td>\n",
       "    </tr>\n",
       "    <tr>\n",
       "      <th>1</th>\n",
       "      <td>2</td>\n",
       "      <td>421</td>\n",
       "    </tr>\n",
       "    <tr>\n",
       "      <th>2</th>\n",
       "      <td>3</td>\n",
       "      <td>729</td>\n",
       "    </tr>\n",
       "    <tr>\n",
       "      <th>3</th>\n",
       "      <td>4</td>\n",
       "      <td>1714</td>\n",
       "    </tr>\n",
       "    <tr>\n",
       "      <th>4</th>\n",
       "      <td>5</td>\n",
       "      <td>6417</td>\n",
       "    </tr>\n",
       "  </tbody>\n",
       "</table>\n",
       "</div>"
      ],
      "text/plain": [
       "  overall  count\n",
       "0       1    719\n",
       "1       2    421\n",
       "2       3    729\n",
       "3       4   1714\n",
       "4       5   6417"
      ]
     },
     "execution_count": 21,
     "metadata": {},
     "output_type": "execute_result"
    }
   ],
   "source": [
    "print(utils.sentiCounts(df, 'sentiment'))\n",
    "utils.sentiCounts(df, 'rating')"
   ]
  },
  {
   "cell_type": "code",
   "execution_count": 22,
   "id": "7c09cc68-2bb6-4efc-9f2b-cb2c86ebcb3c",
   "metadata": {},
   "outputs": [
    {
     "name": "stdout",
     "output_type": "stream",
     "text": [
      "<class 'pandas.core.frame.DataFrame'>\n",
      "Index: 10000 entries, 0 to 9999\n",
      "Data columns (total 12 columns):\n",
      " #   Column          Non-Null Count  Dtype  \n",
      "---  ------          --------------  -----  \n",
      " 0   overall         10000 non-null  float64\n",
      " 1   vote            1649 non-null   object \n",
      " 2   verified        10000 non-null  bool   \n",
      " 3   reviewTime      10000 non-null  object \n",
      " 4   reviewerID      10000 non-null  object \n",
      " 5   asin            10000 non-null  object \n",
      " 6   style           4214 non-null   object \n",
      " 7   reviewerName    9999 non-null   object \n",
      " 8   reviewText      9999 non-null   object \n",
      " 9   summary         10000 non-null  object \n",
      " 10  unixReviewTime  10000 non-null  int64  \n",
      " 11  image           42 non-null     object \n",
      "dtypes: bool(1), float64(1), int64(1), object(9)\n",
      "memory usage: 8.3 MB\n"
     ]
    }
   ],
   "source": [
    "df.info(memory_usage='deep')"
   ]
  },
  {
   "cell_type": "markdown",
   "id": "b761c907-ec3b-4549-9914-095cdde682da",
   "metadata": {},
   "source": [
    "## Text pre-processing"
   ]
  },
  {
   "cell_type": "code",
   "execution_count": 23,
   "id": "5be28e3e-b785-4eef-b721-3391fa122dd2",
   "metadata": {},
   "outputs": [
    {
     "name": "stderr",
     "output_type": "stream",
     "text": [
      "[nltk_data] Downloading package punkt to\n",
      "[nltk_data]     C:\\Users\\jturn\\AppData\\Roaming\\nltk_data...\n",
      "[nltk_data]   Package punkt is already up-to-date!\n",
      "[nltk_data] Downloading package stopwords to\n",
      "[nltk_data]     C:\\Users\\jturn\\AppData\\Roaming\\nltk_data...\n",
      "[nltk_data]   Package stopwords is already up-to-date!\n",
      "[nltk_data] Downloading package wordnet to\n",
      "[nltk_data]     C:\\Users\\jturn\\AppData\\Roaming\\nltk_data...\n",
      "[nltk_data]   Package wordnet is already up-to-date!\n"
     ]
    }
   ],
   "source": [
    "import pandas as pd\n",
    "import re\n",
    "import nltk\n",
    "from nltk.corpus import stopwords\n",
    "from nltk.tokenize import word_tokenize\n",
    "from nltk.stem import WordNetLemmatizer, PorterStemmer\n",
    "\n",
    "nltk.download('punkt')\n",
    "nltk.download('stopwords')\n",
    "nltk.download('wordnet')\n",
    "\n",
    "# Initialize lemmatizer and stemmer\n",
    "lemmatizer = WordNetLemmatizer()\n",
    "stemmer = PorterStemmer()\n",
    "\n",
    "# Define text preprocessing function\n",
    "def preprocess_text(text):\n",
    "    # Convert text to lowercase\n",
    "    text = text.lower()\n",
    "    \n",
    "    # Remove special characters, numbers, and punctuation\n",
    "    text = re.sub(r'[^a-z\\s]', '', text)\n",
    "    \n",
    "    # Tokenize the text\n",
    "    words = word_tokenize(text)\n",
    "    \n",
    "    # Remove stopwords\n",
    "    stop_words = set(stopwords.words('english'))\n",
    "    words = [word for word in words if word not in stop_words]\n",
    "    \n",
    "    # Lemmatize words\n",
    "    lemmatized_words = [lemmatizer.lemmatize(word) for word in words]\n",
    "    \n",
    "    # Stem words\n",
    "    stemmed_words = [stemmer.stem(word) for word in lemmatized_words]\n",
    "    \n",
    "    # Join the words back into a single string\n",
    "    return ' '.join(stemmed_words)\n"
   ]
  },
  {
   "cell_type": "code",
   "execution_count": 24,
   "id": "11270aeb-eed3-45a3-abea-baa01aa83267",
   "metadata": {},
   "outputs": [],
   "source": [
    "df['reviewText'] = df['reviewText'].fillna(\"\")"
   ]
  },
  {
   "cell_type": "code",
   "execution_count": 25,
   "id": "f6de8fbb-9030-41e9-8e31-73cbb8418616",
   "metadata": {},
   "outputs": [
    {
     "data": {
      "text/plain": [
       "0       best novel read year everyth fiction beauti wr...\n",
       "1       page page introspect style writer like henri j...\n",
       "2       kind novel read time lose book day possibl wee...\n",
       "3       gorgeou languag incred writer last life one be...\n",
       "4       taken review compar book leopard promis bildun...\n",
       "                              ...                        \n",
       "9995      tape great crisp text easi peel back past thing\n",
       "9996    print label hard time peel back came rippedoff...\n",
       "9997    black white best easier read white black lette...\n",
       "9998    amazon link best price great find product half...\n",
       "9999    price brother label tape amazon gone significa...\n",
       "Name: reviewText, Length: 10000, dtype: object"
      ]
     },
     "execution_count": 25,
     "metadata": {},
     "output_type": "execute_result"
    }
   ],
   "source": [
    "df['reviewText'] = df['reviewText'].apply(preprocess_text)\n",
    "df['reviewText']"
   ]
  },
  {
   "cell_type": "markdown",
   "id": "3d395224-371c-4d98-9a36-8b6be7afa0bb",
   "metadata": {},
   "source": [
    "## Feature Extraction"
   ]
  },
  {
   "cell_type": "code",
   "execution_count": 26,
   "id": "0bcb0e43-836f-4147-a92b-77878ddfc856",
   "metadata": {},
   "outputs": [
    {
     "name": "stderr",
     "output_type": "stream",
     "text": [
      "[nltk_data] Downloading package punkt to\n",
      "[nltk_data]     C:\\Users\\jturn\\AppData\\Roaming\\nltk_data...\n",
      "[nltk_data]   Package punkt is already up-to-date!\n",
      "[nltk_data] Downloading package wordnet to\n",
      "[nltk_data]     C:\\Users\\jturn\\AppData\\Roaming\\nltk_data...\n",
      "[nltk_data]   Package wordnet is already up-to-date!\n",
      "[nltk_data] Downloading package omw-1.4 to\n",
      "[nltk_data]     C:\\Users\\jturn\\AppData\\Roaming\\nltk_data...\n",
      "[nltk_data]   Package omw-1.4 is already up-to-date!\n",
      "[nltk_data] Downloading package punkt_tab to\n",
      "[nltk_data]     C:\\Users\\jturn\\AppData\\Roaming\\nltk_data...\n",
      "[nltk_data]   Package punkt_tab is already up-to-date!\n"
     ]
    }
   ],
   "source": [
    "from sklearn.feature_extraction.text import TfidfVectorizer, CountVectorizer\n",
    "import gensim\n",
    "import nltk\n",
    "nltk.download('punkt')\n",
    "nltk.download('wordnet')\n",
    "nltk.download('omw-1.4')\n",
    "nltk.download('punkt_tab')\n",
    "\n",
    "def get_sentiment(rating):\n",
    "    if rating <= 2:\n",
    "        # negative\n",
    "        return 0\n",
    "    else:\n",
    "        # positive\n",
    "        return 1"
   ]
  },
  {
   "cell_type": "code",
   "execution_count": 27,
   "id": "eab18f59-848b-4142-b5ab-4b71cb7b8205",
   "metadata": {},
   "outputs": [],
   "source": [
    "df['sentiment'] = df['overall'].apply(get_sentiment)\n",
    "# Sample sentences\n",
    "sentences_series = df[\"reviewText\"].fillna(\"\").apply(str).str.lower()\n",
    "# Corresponding labels\n",
    "labels = df['sentiment']\n",
    "\n",
    "tokenized_sentences = [nltk.word_tokenize(sentence) for sentence in sentences_series]\n",
    "# Train Word2Vec\n",
    "word2vec_model = gensim.models.Word2Vec(sentences=tokenized_sentences, vector_size=50, window=5, min_count=1, sg=1)\n",
    "\n",
    "# Function to compute sentence embeddings\n",
    "def sentence_to_vector(sentence, model):\n",
    "    vectors = []\n",
    "    for word in sentence:\n",
    "        if word in model.wv:\n",
    "            vectors.append(model.wv[word])\n",
    "    if len(vectors) == 0:\n",
    "        return np.zeros(model.vector_size)\n",
    "    return np.mean(vectors, axis=0)\n",
    "\n",
    "# Generate Word2Vec sentence embeddings\n",
    "word2vec_features = np.array([sentence_to_vector(sentence, word2vec_model) for sentence in tokenized_sentences])\n",
    "\n",
    "# Initialize TfidfVectorizer\n",
    "vectorizer = TfidfVectorizer(min_df=5, ngram_range=(1,3), stop_words='english')\n",
    "\n",
    "# Generate CountVectorizer features\n",
    "Tfidf_vectorizer_features = vectorizer.fit_transform(sentences_series).toarray()\n",
    "\n",
    "# Combine Word2Vec and CountVectorizer features\n",
    "combined_features = np.hstack((word2vec_features, Tfidf_vectorizer_features))\n",
    "\n",
    "# Split the combined features and labels into train and test sets\n",
    "X_train, X_test, y_train, y_test = train_test_split(combined_features, labels, test_size=0.2, random_state=42)"
   ]
  },
  {
   "cell_type": "code",
   "execution_count": 28,
   "id": "8907703a-5992-4bca-97d5-90eb5123dd65",
   "metadata": {},
   "outputs": [
    {
     "data": {
      "text/html": [
       "<div>\n",
       "<style scoped>\n",
       "    .dataframe tbody tr th:only-of-type {\n",
       "        vertical-align: middle;\n",
       "    }\n",
       "\n",
       "    .dataframe tbody tr th {\n",
       "        vertical-align: top;\n",
       "    }\n",
       "\n",
       "    .dataframe thead th {\n",
       "        text-align: right;\n",
       "    }\n",
       "</style>\n",
       "<table border=\"1\" class=\"dataframe\">\n",
       "  <thead>\n",
       "    <tr style=\"text-align: right;\">\n",
       "      <th></th>\n",
       "      <th>reviewText</th>\n",
       "      <th>combined_features</th>\n",
       "    </tr>\n",
       "  </thead>\n",
       "  <tbody>\n",
       "    <tr>\n",
       "      <th>0</th>\n",
       "      <td>best novel read year everyth fiction beauti wr...</td>\n",
       "      <td>[-0.062477197498083115, 0.060060665011405945, ...</td>\n",
       "    </tr>\n",
       "    <tr>\n",
       "      <th>1</th>\n",
       "      <td>page page introspect style writer like henri j...</td>\n",
       "      <td>[-0.0016308120684698224, -0.0508977435529232, ...</td>\n",
       "    </tr>\n",
       "    <tr>\n",
       "      <th>2</th>\n",
       "      <td>kind novel read time lose book day possibl wee...</td>\n",
       "      <td>[-0.04488280043005943, 0.006285752635449171, -...</td>\n",
       "    </tr>\n",
       "    <tr>\n",
       "      <th>3</th>\n",
       "      <td>gorgeou languag incred writer last life one be...</td>\n",
       "      <td>[-0.04084441065788269, -0.011325698345899582, ...</td>\n",
       "    </tr>\n",
       "    <tr>\n",
       "      <th>4</th>\n",
       "      <td>taken review compar book leopard promis bildun...</td>\n",
       "      <td>[-0.012977728620171547, 0.006311228033155203, ...</td>\n",
       "    </tr>\n",
       "    <tr>\n",
       "      <th>...</th>\n",
       "      <td>...</td>\n",
       "      <td>...</td>\n",
       "    </tr>\n",
       "    <tr>\n",
       "      <th>9995</th>\n",
       "      <td>tape great crisp text easi peel back past thing</td>\n",
       "      <td>[-0.0007487162947654724, -0.1745685487985611, ...</td>\n",
       "    </tr>\n",
       "    <tr>\n",
       "      <th>9996</th>\n",
       "      <td>print label hard time peel back came rippedoff...</td>\n",
       "      <td>[0.0825357511639595, -0.11788341403007507, -0....</td>\n",
       "    </tr>\n",
       "    <tr>\n",
       "      <th>9997</th>\n",
       "      <td>black white best easier read white black lette...</td>\n",
       "      <td>[0.07923944294452667, -0.14929932355880737, -0...</td>\n",
       "    </tr>\n",
       "    <tr>\n",
       "      <th>9998</th>\n",
       "      <td>amazon link best price great find product half...</td>\n",
       "      <td>[0.06187071651220322, -0.07349416613578796, -0...</td>\n",
       "    </tr>\n",
       "    <tr>\n",
       "      <th>9999</th>\n",
       "      <td>price brother label tape amazon gone significa...</td>\n",
       "      <td>[-0.015472723171114922, -0.19780859351158142, ...</td>\n",
       "    </tr>\n",
       "  </tbody>\n",
       "</table>\n",
       "<p>10000 rows × 2 columns</p>\n",
       "</div>"
      ],
      "text/plain": [
       "                                             reviewText  \\\n",
       "0     best novel read year everyth fiction beauti wr...   \n",
       "1     page page introspect style writer like henri j...   \n",
       "2     kind novel read time lose book day possibl wee...   \n",
       "3     gorgeou languag incred writer last life one be...   \n",
       "4     taken review compar book leopard promis bildun...   \n",
       "...                                                 ...   \n",
       "9995    tape great crisp text easi peel back past thing   \n",
       "9996  print label hard time peel back came rippedoff...   \n",
       "9997  black white best easier read white black lette...   \n",
       "9998  amazon link best price great find product half...   \n",
       "9999  price brother label tape amazon gone significa...   \n",
       "\n",
       "                                      combined_features  \n",
       "0     [-0.062477197498083115, 0.060060665011405945, ...  \n",
       "1     [-0.0016308120684698224, -0.0508977435529232, ...  \n",
       "2     [-0.04488280043005943, 0.006285752635449171, -...  \n",
       "3     [-0.04084441065788269, -0.011325698345899582, ...  \n",
       "4     [-0.012977728620171547, 0.006311228033155203, ...  \n",
       "...                                                 ...  \n",
       "9995  [-0.0007487162947654724, -0.1745685487985611, ...  \n",
       "9996  [0.0825357511639595, -0.11788341403007507, -0....  \n",
       "9997  [0.07923944294452667, -0.14929932355880737, -0...  \n",
       "9998  [0.06187071651220322, -0.07349416613578796, -0...  \n",
       "9999  [-0.015472723171114922, -0.19780859351158142, ...  \n",
       "\n",
       "[10000 rows x 2 columns]"
      ]
     },
     "execution_count": 28,
     "metadata": {},
     "output_type": "execute_result"
    }
   ],
   "source": [
    "col2 = pd.DataFrame({\n",
    "    'reviewText': df['reviewText'],\n",
    "    'combined_features': list(combined_features)  # Store combined features as lists\n",
    "})\n",
    "col2"
   ]
  },
  {
   "cell_type": "markdown",
   "id": "85fc4781-04e6-43f4-a144-a4afef047645",
   "metadata": {},
   "source": [
    "## Model training"
   ]
  },
  {
   "cell_type": "code",
   "execution_count": 29,
   "id": "883e3214-4c17-4894-958c-77a4ea65ef09",
   "metadata": {},
   "outputs": [],
   "source": [
    "from sklearn.ensemble import RandomForestClassifier, GradientBoostingClassifier\n",
    "from sklearn.svm import SVC\n",
    "from sklearn.linear_model import SGDClassifier\n",
    "from sklearn.metrics import make_scorer, accuracy_score, precision_score, recall_score, f1_score, classification_report"
   ]
  },
  {
   "cell_type": "code",
   "execution_count": 30,
   "id": "c42e7ef1-eda7-45c9-af14-4008bfe767e6",
   "metadata": {},
   "outputs": [
    {
     "name": "stdout",
     "output_type": "stream",
     "text": [
      "Precision: 0.889620253164557\n",
      "Recall: 1.0\n",
      "Accuracy: 0.891\n",
      "CPU times: total: 23.7 s\n",
      "Wall time: 1min 52s\n"
     ]
    }
   ],
   "source": [
    "%%time\n",
    "rand_forest = RandomForestClassifier()\n",
    "rand_forest.fit(X_train, y_train)\n",
    "# Make predictions\n",
    "y_pred = rand_forest.predict(X_test)\n",
    "# Calculate precision, recall, and accuracy\n",
    "rf_precision = precision_score(y_test, y_pred)\n",
    "rf_recall = recall_score(y_test, y_pred)\n",
    "rf_accuracy = accuracy_score(y_test, y_pred)\n",
    "print(f\"Precision: {rf_precision}\")\n",
    "print(f\"Recall: {rf_recall}\")\n",
    "print(f\"Accuracy: {rf_accuracy}\")"
   ]
  },
  {
   "cell_type": "code",
   "execution_count": 31,
   "id": "857c3c4a-21fc-40d8-9b31-125f26fd9028",
   "metadata": {},
   "outputs": [
    {
     "name": "stdout",
     "output_type": "stream",
     "text": [
      "Precision: 0.8950050968399592\n",
      "Recall: 0.9994308480364257\n",
      "Accuracy: 0.8965\n",
      "CPU times: total: 2min 15s\n",
      "Wall time: 4min 4s\n"
     ]
    }
   ],
   "source": [
    "%%time\n",
    "svm = SVC()\n",
    "svm.fit(X_train, y_train)\n",
    "# Make predictions\n",
    "y_pred = svm.predict(X_test)\n",
    "# Calculate precision, recall, and accuracy\n",
    "svm_precision = precision_score(y_test, y_pred)\n",
    "svm_recall = recall_score(y_test, y_pred)\n",
    "svm_accuracy = accuracy_score(y_test, y_pred)\n",
    "print(f\"Precision: {svm_precision}\")\n",
    "print(f\"Recall: {svm_recall}\")\n",
    "print(f\"Accuracy: {svm_accuracy}\")"
   ]
  },
  {
   "cell_type": "code",
   "execution_count": 32,
   "id": "4f6b5a3b-d8f5-4962-b2e1-614d51057496",
   "metadata": {},
   "outputs": [
    {
     "name": "stdout",
     "output_type": "stream",
     "text": [
      "Precision: 0.9174166225516146\n",
      "Recall: 0.9863403528742174\n",
      "Accuracy: 0.91\n",
      "CPU times: total: 3.03 s\n",
      "Wall time: 4.78 s\n"
     ]
    }
   ],
   "source": [
    "%%time\n",
    "sgd = SGDClassifier(loss='log_loss', penalty='l2')\n",
    "sgd.fit(X_train, y_train)\n",
    "# Make predictions\n",
    "y_pred = sgd.predict(X_test)\n",
    "# Calculate precision, recall, and accuracy\n",
    "print(f\"Precision: {precision_score(y_test, y_pred)}\")\n",
    "print(f\"Recall: {recall_score(y_test, y_pred)}\")\n",
    "print(f\"Accuracy: {accuracy_score(y_test, y_pred)}\")"
   ]
  },
  {
   "cell_type": "code",
   "execution_count": 33,
   "id": "116e97c8-5c06-4a5e-8dbb-bede4bf488a4",
   "metadata": {},
   "outputs": [],
   "source": [
    "# %%time\n",
    "# grad_boosting = GradientBoostingClassifier()\n",
    "# grad_boosting.fit(X_train, y_train)\n",
    "# # Make predictions\n",
    "# y_pred = grad_boosting.predict(X_test)\n",
    "# # Calculate precision, recall, and accuracy\n",
    "# gb_precision = precision_score(y_test, y_pred)\n",
    "# gb_recall = recall_score(y_test, y_pred)\n",
    "# gb_accuracy = accuracy_score(y_test, y_pred)\n",
    "# print(f\"Precision: {gb_precision}\")\n",
    "# print(f\"Recall: {gb_recall}\")\n",
    "# print(f\"Accuracy: {gb_accuracy}\")"
   ]
  },
  {
   "cell_type": "markdown",
   "id": "e42daa10-ae32-4834-bd2f-6ba17dbbd85a",
   "metadata": {},
   "source": [
    "### Custom Neural network"
   ]
  },
  {
   "cell_type": "code",
   "execution_count": 34,
   "id": "ca4f9a18-ad7d-4eb1-bee9-20b808b1064f",
   "metadata": {},
   "outputs": [
    {
     "data": {
      "text/plain": [
       "[<matplotlib.lines.Line2D at 0x17b4e5739e0>]"
      ]
     },
     "execution_count": 34,
     "metadata": {},
     "output_type": "execute_result"
    },
    {
     "data": {
      "image/png": "[encoded data removed]",
      "text/plain": [
       "<Figure size 640x480 with 1 Axes>"
      ]
     },
     "metadata": {},
     "output_type": "display_data"
    }
   ],
   "source": [
    "import matplotlib.pyplot as plt\n",
    "## use a sigmoidal activation function\n",
    "def activate(x, W, b):\n",
    "    return 1 / (1 + np.exp(-(x @ W.T + b)))\n",
    "\n",
    "steepness = 1\n",
    "position = 0\n",
    "x = np.linspace(-10, 10, 100)\n",
    "y = activate(x, steepness * np.identity(100), position)\n",
    "plt.plot(x, y)"
   ]
  },
  {
   "cell_type": "code",
   "execution_count": 35,
   "id": "1e2d710e-0ba5-4ce7-8042-10e5e200342e",
   "metadata": {},
   "outputs": [
    {
     "data": {
      "text/plain": [
       "[<matplotlib.lines.Line2D at 0x17b56b78bf0>]"
      ]
     },
     "execution_count": 35,
     "metadata": {},
     "output_type": "execute_result"
    },
    {
     "data": {
      "image/png": "[encoded data removed]",
      "text/plain": [
       "<Figure size 640x480 with 1 Axes>"
      ]
     },
     "metadata": {},
     "output_type": "display_data"
    }
   ],
   "source": [
    "plt.plot(x, y * (1- y))"
   ]
  },
  {
   "cell_type": "code",
   "execution_count": 36,
   "id": "ddff2e11-775f-4c89-8802-bea7e5e1f15f",
   "metadata": {},
   "outputs": [],
   "source": [
    "import numpy as np\n",
    "from sklearn.feature_extraction.text import CountVectorizer\n",
    "\n",
    "\n",
    "# Define the sigmoid activation function\n",
    "def sigmoid(x):\n",
    "    return 1 / (1 + np.exp(-x))\n",
    "\n",
    "\n",
    "# Derivative of the sigmoid function\n",
    "def sigmoid_derivative(x):\n",
    "    return x * (1 - x)\n",
    "\n",
    "\n",
    "# Define a simple Neural Network class\n",
    "class NeuralNetwork:\n",
    "    def __init__(self, input_size, hidden_size, output_size):\n",
    "        # Randomly initialize weights and biases\n",
    "        self.weights_input_hidden = np.random.uniform(-1, 1, (input_size, hidden_size))  # Correct shape\n",
    "        self.bias_hidden = np.zeros((1, hidden_size))  # Bias for hidden layer\n",
    "        self.weights_hidden_output = np.random.uniform(-1, 1, (hidden_size, output_size))  # Correct shape\n",
    "        self.bias_output = np.zeros((1, output_size))  # Bias for output layer\n",
    "\n",
    "    # Forward pass\n",
    "    def forward(self, X):\n",
    "        # Hidden layer computation\n",
    "        self.hidden_layer_input = np.dot(X, self.weights_input_hidden) + self.bias_hidden  # Shape: (n_samples, hidden_size)\n",
    "        self.hidden_layer_output = sigmoid(self.hidden_layer_input)  # Apply sigmoid activation\n",
    "\n",
    "        # Output layer computation\n",
    "        self.output_layer_input = np.dot(self.hidden_layer_output, self.weights_hidden_output) + self.bias_output\n",
    "        self.output_layer_output = sigmoid(self.output_layer_input)  # Apply sigmoid activation\n",
    "\n",
    "        # Debugging info\n",
    "        # print(\"Hidden layer input shape:\", self.hidden_layer_input.shape)\n",
    "        # print(\"Hidden layer output shape:\", self.hidden_layer_output.shape)\n",
    "        # print(\"Output layer input shape:\", self.output_layer_input.shape)\n",
    "        # print(\"Output layer output shape:\", self.output_layer_output.shape)\n",
    "\n",
    "        return self.output_layer_output\n",
    "\n",
    "    # Backward pass\n",
    "    def backward(self, X, y, output, learning_rate=0.01):\n",
    "        # Compute error\n",
    "        error = y - output  # Expect this to work if y and output are correctly reshaped\n",
    "\n",
    "        # Compute the output gradient\n",
    "        output_gradient = error * sigmoid_derivative(output)  # Gradient through sigmoid\n",
    "\n",
    "        # Gradients for weights and biases\n",
    "        dW_hidden_output = np.dot(self.hidden_layer_output.T, output_gradient)  # Gradient for weights\n",
    "        db_output = np.sum(output_gradient, axis=0).reshape(1, -1)  # Reshape bias gradients\n",
    "\n",
    "        # Hidden layer gradients\n",
    "        hidden_gradient = np.dot(output_gradient, self.weights_hidden_output.T) * sigmoid_derivative(self.hidden_layer_output)\n",
    "        dW_input_hidden = np.dot(X.T, hidden_gradient)  # Gradient for weights\n",
    "        db_hidden = np.sum(hidden_gradient, axis=0).reshape(1, -1)\n",
    "\n",
    "        # Update weights and biases\n",
    "        self.weights_hidden_output += learning_rate * dW_hidden_output\n",
    "        self.bias_output += learning_rate * db_output\n",
    "        self.weights_input_hidden += learning_rate * dW_input_hidden\n",
    "        self.bias_hidden += learning_rate * db_hidden\n",
    "\n",
    "    # Training method\n",
    "    def train(self, X, y, epochs=50, learning_rate=0.01):\n",
    "        costs = []  # Record cost over time\n",
    "        for epoch in range(epochs):\n",
    "            # Forward pass\n",
    "            output = self.forward(X)\n",
    "\n",
    "            # Ensure `y` is reshaped to match the output's shape\n",
    "            y = y.reshape(-1, 1)  # Reshape target labels to (n_samples, 1) if necessary\n",
    "            # Backward pass\n",
    "            self.backward(X, y, output, learning_rate)\n",
    "\n",
    "            # Compute and record the loss\n",
    "            loss = np.mean((y - output) ** 2)\n",
    "            costs.append(np.log10(loss))  # Log scale for better visualization\n",
    "            print(f\"Epoch {epoch+1}/{epochs}, Loss: {loss:.4f}\")\n",
    "\n",
    "                # Plotting the cost over iterations\n",
    "        plt.figure(figsize=(8, 6))\n",
    "        plt.plot(np.arange(len(costs)) * 10000, costs)  # Adjust x-axis to match iterations\n",
    "        plt.xlabel('Iteration number / 10 000')\n",
    "        plt.ylabel('log$_{10}$(cost function)')\n",
    "        plt.title('Cost Function over Training')\n",
    "        plt.grid()\n",
    "        plt.show()\n",
    "        return costs\n",
    "\n",
    "    # Prediction method\n",
    "    def predict(self, X):\n",
    "        output = self.forward(X)\n",
    "        predictions = (output > 0.5).astype(int)  # Apply threshold for binary classification\n",
    "        return predictions\n"
   ]
  },
  {
   "cell_type": "code",
   "execution_count": 37,
   "id": "87967dfd-90a0-4abc-88df-41b366c5dcf6",
   "metadata": {},
   "outputs": [
    {
     "name": "stdout",
     "output_type": "stream",
     "text": [
      "X_train shape: (8000, 8675)\n",
      "y_train shape: (8000,)\n",
      "Epoch 1/50, Loss: 0.1476\n",
      "Epoch 2/50, Loss: 0.1121\n",
      "Epoch 3/50, Loss: 0.1121\n",
      "Epoch 4/50, Loss: 0.1121\n",
      "Epoch 5/50, Loss: 0.1121\n",
      "Epoch 6/50, Loss: 0.1121\n",
      "Epoch 7/50, Loss: 0.1121\n",
      "Epoch 8/50, Loss: 0.1121\n",
      "Epoch 9/50, Loss: 0.1121\n",
      "Epoch 10/50, Loss: 0.1121\n",
      "Epoch 11/50, Loss: 0.1121\n",
      "Epoch 12/50, Loss: 0.1121\n",
      "Epoch 13/50, Loss: 0.1121\n",
      "Epoch 14/50, Loss: 0.1121\n",
      "Epoch 15/50, Loss: 0.1121\n",
      "Epoch 16/50, Loss: 0.1121\n",
      "Epoch 17/50, Loss: 0.1121\n",
      "Epoch 18/50, Loss: 0.1121\n",
      "Epoch 19/50, Loss: 0.1121\n",
      "Epoch 20/50, Loss: 0.1121\n",
      "Epoch 21/50, Loss: 0.1121\n",
      "Epoch 22/50, Loss: 0.1121\n",
      "Epoch 23/50, Loss: 0.1121\n",
      "Epoch 24/50, Loss: 0.1121\n",
      "Epoch 25/50, Loss: 0.1121\n",
      "Epoch 26/50, Loss: 0.1121\n",
      "Epoch 27/50, Loss: 0.1121\n",
      "Epoch 28/50, Loss: 0.1121\n",
      "Epoch 29/50, Loss: 0.1121\n",
      "Epoch 30/50, Loss: 0.1121\n",
      "Epoch 31/50, Loss: 0.1121\n",
      "Epoch 32/50, Loss: 0.1121\n",
      "Epoch 33/50, Loss: 0.1121\n",
      "Epoch 34/50, Loss: 0.1121\n",
      "Epoch 35/50, Loss: 0.1121\n",
      "Epoch 36/50, Loss: 0.1121\n",
      "Epoch 37/50, Loss: 0.1121\n",
      "Epoch 38/50, Loss: 0.1121\n",
      "Epoch 39/50, Loss: 0.1121\n",
      "Epoch 40/50, Loss: 0.1121\n",
      "Epoch 41/50, Loss: 0.1121\n",
      "Epoch 42/50, Loss: 0.1121\n",
      "Epoch 43/50, Loss: 0.1121\n",
      "Epoch 44/50, Loss: 0.1121\n",
      "Epoch 45/50, Loss: 0.1121\n",
      "Epoch 46/50, Loss: 0.1121\n",
      "Epoch 47/50, Loss: 0.1121\n",
      "Epoch 48/50, Loss: 0.1121\n",
      "Epoch 49/50, Loss: 0.1121\n",
      "Epoch 50/50, Loss: 0.1121\n"
     ]
    },
    {
     "data": {
      "image/png": "[encoded data removed]",
      "text/plain": [
       "<Figure size 800x600 with 1 Axes>"
      ]
     },
     "metadata": {},
     "output_type": "display_data"
    }
   ],
   "source": [
    "# Ensure the shapes are as expected\n",
    "print(\"X_train shape:\", X_train.shape)  # Debugging\n",
    "print(\"y_train shape:\", y_train.shape)  # Debugging\n",
    "\n",
    "y_train = y_train.to_numpy()\n",
    "\n",
    "# Instantiate and train the neural network\n",
    "input_size = X_train.shape[1]  # Number of features from CountVectorizer\n",
    "hidden_size = 5  # Number of neurons in the hidden layer\n",
    "output_size = 1  # Single output neuron (binary classification)\n",
    "\n",
    "nn = NeuralNetwork(input_size, hidden_size, output_size)\n",
    "nn.train(X_train, y_train, epochs=50, learning_rate=0.1)\n",
    "y_train = pd.Series(y_train)"
   ]
  },
  {
   "cell_type": "code",
   "execution_count": 38,
   "id": "81c3eb46-572d-4b5d-8929-a5cbe0026308",
   "metadata": {},
   "outputs": [
    {
     "name": "stdout",
     "output_type": "stream",
     "text": [
      "Accuracy on test data: 0.88\n"
     ]
    }
   ],
   "source": [
    "y_pred = nn.predict(X_test)\n",
    "accuracy = accuracy_score(y_test, y_pred)\n",
    "print(f\"Accuracy on test data: {accuracy:.2f}\")"
   ]
  },
  {
   "cell_type": "markdown",
   "id": "55932066-2e77-4eb8-b65f-77d4aad0b537",
   "metadata": {},
   "source": [
    "## Improving metrics with Grid Search\n",
    "The algorithms with the highest accuracy is Stochastic gradient descent and support vector machines. Use grid search to probe further.\n",
    "\n",
    "**Note: takes too long on my machine (approx 3 hours for each grid search)** "
   ]
  },
  {
   "cell_type": "markdown",
   "id": "ca84c533-9d6a-43a6-821a-fece303b7744",
   "metadata": {},
   "source": [
    "### SVM gridsearch"
   ]
  },
  {
   "cell_type": "code",
   "execution_count": 39,
   "id": "178c45a9-37ff-443e-98e3-c2185a993778",
   "metadata": {},
   "outputs": [],
   "source": [
    "# %%time\n",
    "# from sklearn.model_selection import GridSearchCV\n",
    "# from sklearn.metrics import classification_report\n",
    "\n",
    "# # Define the SVM model\n",
    "# model = SVC(probability=True)\n",
    "\n",
    "# # Define the hyperparameter grid\n",
    "# param_grid = {\n",
    "#     'C': [0.1, 1, 10, 100],            # Regularization parameter\n",
    "#     'kernel': ['linear', 'rbf', 'poly'],  # Kernel types\n",
    "#     'gamma': ['scale', 'auto']          # Kernel coefficient\n",
    "# }\n",
    "\n",
    "# # Set up GridSearchCV\n",
    "# grid_search = GridSearchCV(\n",
    "#     estimator=model,\n",
    "#     param_grid=param_grid,\n",
    "#     scoring='accuracy',       # Metric to optimize\n",
    "#     cv=5,                     # 5-fold cross-validation\n",
    "#     verbose=2,                # Verbosity level for logging\n",
    "#     n_jobs=-1                 # Use all available CPU cores\n",
    "# )\n",
    "\n",
    "# # Fit the model\n",
    "# grid_search.fit(X_train, y_train)\n",
    "\n",
    "# # Print the best parameters and best score\n",
    "# print(\"Best Parameters:\", grid_search.best_params_)\n",
    "# print(\"Best Cross-Validation Score:\", grid_search.best_score_)\n",
    "\n",
    "# # Evaluate on the test set\n",
    "# best_model = grid_search.best_estimator_\n",
    "# y_pred = best_model.predict(X_test)\n",
    "# print(\"\\nClassification Report:\\n\", classification_report(y_test, y_pred))"
   ]
  },
  {
   "cell_type": "markdown",
   "id": "78bbaf96-6bb9-4ff2-b52f-46be4b3f52fb",
   "metadata": {},
   "source": [
    "### SGD grid search"
   ]
  },
  {
   "cell_type": "code",
   "execution_count": 40,
   "id": "ffda6b9a-a125-470c-a331-da84d312fc59",
   "metadata": {},
   "outputs": [],
   "source": [
    "# %%time\n",
    "# from sklearn.model_selection import GridSearchCV\n",
    "# from sklearn.metrics import classification_report\n",
    "\n",
    "# model = SGDClassifier(random_state=42)\n",
    "# # Define the hyperparameter grid\n",
    "# param_grid = {\n",
    "#     'loss': ['hinge', 'log_loss', 'modified_huber'],  # Loss functions for classification\n",
    "#     'penalty': ['l2', 'l1', 'elasticnet'],           # Regularization types\n",
    "#     'alpha': [0.0001, 0.001, 0.01, 0.1],             # Regularization strength\n",
    "#     'learning_rate': ['constant', 'optimal', 'invscaling', 'adaptive'],  # Learning rate schedules\n",
    "#     'eta0': [0.01, 0.1, 1],                          # Initial learning rate for 'constant' or 'invscaling'\n",
    "#     'max_iter': [1000, 2000],                        # Maximum number of iterations\n",
    "# }\n",
    "# # Set up GridSearchCV\n",
    "# grid_search = GridSearchCV(\n",
    "#     estimator=model,\n",
    "#     param_grid=param_grid,\n",
    "#     scoring='accuracy',       # Metric to optimize\n",
    "#     cv=5,                     # 5-fold cross-validation\n",
    "#     verbose=2,                # Verbosity level\n",
    "#     n_jobs=-1                 # Use all available CPU cores\n",
    "# )\n",
    "\n",
    "# # Fit the model\n",
    "# grid_search.fit(X_train, y_train)\n",
    "\n",
    "# # Print the best parameters and best score\n",
    "# print(\"Best Parameters:\", grid_search.best_params_)\n",
    "# print(\"Best Cross-Validation Score:\", grid_search.best_score_)\n",
    "\n",
    "# # Evaluate on the test set\n",
    "# best_model = grid_search.best_estimator_\n",
    "# y_pred = best_model.predict(X_test)\n",
    "# print(\"\\nClassification Report:\\n\", classification_report(y_test, y_pred))"
   ]
  },
  {
   "cell_type": "markdown",
   "id": "e83111ba-18fc-4ede-b214-2327b3781b07",
   "metadata": {},
   "source": [
    "## Model Evalutation\n",
    "\n",
    "Model identified was the **SGDClassifier(loss='log_loss', penalty='l2')**"
   ]
  },
  {
   "cell_type": "code",
   "execution_count": 41,
   "id": "37cfb629-666a-4045-8ce6-1f6b962d39ed",
   "metadata": {},
   "outputs": [
    {
     "name": "stdout",
     "output_type": "stream",
     "text": [
      "Precision: 0.917989417989418\n",
      "Recall: 0.9874786568013659\n",
      "Accuracy: 0.9115\n",
      "CPU times: total: 2.53 s\n",
      "Wall time: 3.66 s\n"
     ]
    }
   ],
   "source": [
    "%%time\n",
    "sgd = SGDClassifier(loss='log_loss', penalty='l2')\n",
    "sgd.fit(X_train, y_train)\n",
    "# Make predictions\n",
    "y_pred = sgd.predict(X_test)\n",
    "# Calculate precision, recall, and accuracy\n",
    "print(f\"Precision: {precision_score(y_test, y_pred)}\")\n",
    "print(f\"Recall: {recall_score(y_test, y_pred)}\")\n",
    "print(f\"Accuracy: {accuracy_score(y_test, y_pred)}\")"
   ]
  },
  {
   "cell_type": "code",
   "execution_count": 44,
   "id": "45aa5cd2-8b03-426b-99f5-0a42cad321ca",
   "metadata": {},
   "outputs": [
    {
     "data": {
      "image/png": "[encoded data removed]",
      "text/plain": [
       "<Figure size 800x600 with 1 Axes>"
      ]
     },
     "metadata": {},
     "output_type": "display_data"
    },
    {
     "name": "stdout",
     "output_type": "stream",
     "text": [
      "ROC curve saved to C:\\Users\\jturn\\PycharmProjects\\Sentiment_analysis_AMAZON_reviews\\savedModels\\ROC\\roc_curve.png\n"
     ]
    }
   ],
   "source": [
    "from sklearn.metrics import roc_curve, roc_auc_score\n",
    "# Compute ROC curve\n",
    "fpr, tpr, thresholds = roc_curve(y_test, y_pred)\n",
    "\n",
    "# Compute AUC\n",
    "auc_score = roc_auc_score(y_test, y_pred)\n",
    "\n",
    "# Plot the ROC curve\n",
    "plt.figure(figsize=(8, 6))\n",
    "plt.plot(fpr, tpr, label=f'ROC Curve (AUC = {auc_score:.2f})', color='blue')\n",
    "plt.plot([0, 1], [0, 1], linestyle='--', color='red', label='Random Guess')\n",
    "plt.title('ROC Curve')\n",
    "plt.xlabel('False Positive Rate (FPR)')\n",
    "plt.ylabel('True Positive Rate (TPR)')\n",
    "plt.legend()\n",
    "plt.grid()\n",
    "\n",
    "# Save the plot to a file\n",
    "save_path = os.getcwd()\n",
    "save_path = save_path+'\\\\savedModels\\\\'\n",
    "roc_path = save_path+'ROC\\\\roc_curve.png'\n",
    "plt.savefig(roc_path, dpi=300, bbox_inches='tight')\n",
    "plt.show()\n",
    "plt.close()\n",
    "\n",
    "print(\"ROC curve saved to \"+roc_path)"
   ]
  },
  {
   "cell_type": "markdown",
   "id": "e37f60c2-0e99-4ff7-bd8b-1bf4e79519db",
   "metadata": {},
   "source": [
    "## Saving the model"
   ]
  },
  {
   "cell_type": "code",
   "execution_count": 46,
   "id": "ff86e2cf-c060-4f90-a6b6-c4224967c52f",
   "metadata": {},
   "outputs": [],
   "source": [
    "import pickle"
   ]
  },
  {
   "cell_type": "code",
   "execution_count": 65,
   "id": "818e19a1-0591-400a-b556-f8186f54dce9",
   "metadata": {},
   "outputs": [
    {
     "name": "stdout",
     "output_type": "stream",
     "text": [
      "C:\\Users\\jturn\\PycharmProjects\\Sentiment_analysis_AMAZON_reviews\\savedModels\\\n",
      "Transformer saved!\n",
      "Accuracy: 0.9045\n",
      "Model saved..\n",
      "Predicting with model file..\n",
      "Accuracy: 0.9045\n"
     ]
    }
   ],
   "source": [
    "print(save_path)\n",
    "## get pre-processed data\n",
    "df[\"reviewText\"] = df[\"reviewText\"].fillna(\"\").apply(str).str.lower()\n",
    "# train test data split\n",
    "X_train, X_test, y_train, y_test = train_test_split(df, labels, test_size=0.2, random_state=42)\n",
    "# y_test\n",
    "# # Vectorization\n",
    "vectorizer = TfidfVectorizer(min_df=5, ngram_range=(1,3), stop_words='english')\n",
    "tfidf = vectorizer.fit(X_train['reviewText'])\n",
    "# save tfidf\n",
    "tfidf_filename = save_path+'\\\\transformer\\\\tfidftransformer.sav'\n",
    "pickle.dump(tfidf, open(tfidf_filename, 'wb'))\n",
    "print(\"Transformer saved!\")\n",
    "# load transformer\n",
    "transformer = pickle.load(open(tfidf_filename, 'rb'))\n",
    "X_train = transformer.transform(X_train['reviewText'])\n",
    "X_test = transformer.transform(X_test['reviewText'])\n",
    "\n",
    "# \n",
    "# model_filename = save_path+'\\\\model\\\\tfidftransformer.sav'\n",
    "sgd = SGDClassifier(loss='log_loss', penalty='l2')\n",
    "sgd.fit(X_train, y_train)\n",
    "y_pred = sgd.predict(X_test)\n",
    "print(f\"Accuracy: {accuracy_score(y_test, y_pred)}\")\n",
    "# pickle.dump(sgd, open(model_filename, 'wb'))\n",
    "#save model\n",
    "model_filename = save_path+'model\\\\SGD_model.sav'\n",
    "pickle.dump(sgd, open(model_filename, 'wb'))\n",
    "print(\"Model saved..\")\n",
    "# open model\n",
    "print(\"Predicting with model file..\")\n",
    "model = pickle.load(open(model_filename, 'rb'))\n",
    "y_pred = model.predict(X_test)\n",
    "print(f\"Accuracy: {accuracy_score(y_test, y_pred)}\")"
   ]
  },
  {
   "cell_type": "code",
   "execution_count": null,
   "id": "f1b78f1d-14ec-45ec-b1fd-6deb53df6dd3",
   "metadata": {},
   "outputs": [],
   "source": []
  }
 ],
 "metadata": {
  "kernelspec": {
   "display_name": "Python 3 (ipykernel)",
   "language": "python",
   "name": "python3"
  },
  "language_info": {
   "codemirror_mode": {
    "name": "ipython",
    "version": 3
   },
   "file_extension": ".py",
   "mimetype": "text/x-python",
   "name": "python",
   "nbconvert_exporter": "python",
   "pygments_lexer": "ipython3",
   "version": "3.12.3"
  }
 },
 "nbformat": 4,
 "nbformat_minor": 5
}
